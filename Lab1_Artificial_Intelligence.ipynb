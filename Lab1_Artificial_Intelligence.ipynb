{
 "cells": [
  {
   "cell_type": "markdown",
   "metadata": {
    "id": "fOXHtqK1l0La"
   },
   "source": [
    "# Lab 1: Introduction to Python\n"
   ]
  },
  {
   "cell_type": "markdown",
   "metadata": {
    "id": "Qe5edulQmI3y"
   },
   "source": [
    "## Jupyter notebook\n",
    "This is an interactive document that can contain both text, Python code (`print('hello world!')`), images <img src=\"https://www.tensorflow.org/images/colab_logo_32px.png\" /> and equations ($x+y= 0$).\n",
    "\n",
    "A notebook is made up by cells."
   ]
  },
  {
   "cell_type": "code",
   "execution_count": 1,
   "metadata": {
    "id": "MOMpHGFpmIa3"
   },
   "outputs": [
    {
     "name": "stdout",
     "output_type": "stream",
     "text": [
      "hello world!\n"
     ]
    }
   ],
   "source": [
    "print('hello world!')"
   ]
  },
  {
   "cell_type": "markdown",
   "metadata": {
    "id": "hLorbZNjmzuS"
   },
   "source": [
    "To execute the whole code inside a cell, press the play button or the `Shift+Enter` (or `Ctrl+Enter`) combination."
   ]
  },
  {
   "cell_type": "markdown",
   "metadata": {
    "id": "SSFDxESYnS4p"
   },
   "source": [
    "## Base instructions\n"
   ]
  },
  {
   "cell_type": "code",
   "execution_count": 2,
   "metadata": {
    "id": "sVpGKRUDnWkO"
   },
   "outputs": [
    {
     "data": {
      "text/plain": [
       "5"
      ]
     },
     "execution_count": 2,
     "metadata": {},
     "output_type": "execute_result"
    }
   ],
   "source": [
    "# perform a simple sum\n",
    "2+3"
   ]
  },
  {
   "cell_type": "code",
   "execution_count": 3,
   "metadata": {
    "id": "fFpQ2FyYnqr3"
   },
   "outputs": [],
   "source": [
    "# assign new variables\n",
    "v = 2 + 3\n",
    "a, b = 123, 456"
   ]
  },
  {
   "cell_type": "code",
   "execution_count": 4,
   "metadata": {
    "id": "RXdFFWFnoHSx"
   },
   "outputs": [
    {
     "name": "stdout",
     "output_type": "stream",
     "text": [
      "140243540457760 <class 'int'> 5\n"
     ]
    }
   ],
   "source": [
    "# check the identity, the type, and the value of an object\n",
    "print(id(v), type(v), v)"
   ]
  },
  {
   "cell_type": "code",
   "execution_count": 5,
   "metadata": {
    "id": "FZwh_-Fss-wi"
   },
   "outputs": [
    {
     "name": "stdout",
     "output_type": "stream",
     "text": [
      "Help on int object:\n",
      "\n",
      "class int(object)\n",
      " |  int([x]) -> integer\n",
      " |  int(x, base=10) -> integer\n",
      " |  \n",
      " |  Convert a number or string to an integer, or return 0 if no arguments\n",
      " |  are given.  If x is a number, return x.__int__().  For floating point\n",
      " |  numbers, this truncates towards zero.\n",
      " |  \n",
      " |  If x is not a number or if base is given, then x must be a string,\n",
      " |  bytes, or bytearray instance representing an integer literal in the\n",
      " |  given base.  The literal can be preceded by '+' or '-' and be surrounded\n",
      " |  by whitespace.  The base defaults to 10.  Valid bases are 0 and 2-36.\n",
      " |  Base 0 means to interpret the base from the string as an integer literal.\n",
      " |  >>> int('0b100', base=0)\n",
      " |  4\n",
      " |  \n",
      " |  Built-in subclasses:\n",
      " |      bool\n",
      " |  \n",
      " |  Methods defined here:\n",
      " |  \n",
      " |  __abs__(self, /)\n",
      " |      abs(self)\n",
      " |  \n",
      " |  __add__(self, value, /)\n",
      " |      Return self+value.\n",
      " |  \n",
      " |  __and__(self, value, /)\n",
      " |      Return self&value.\n",
      " |  \n",
      " |  __bool__(self, /)\n",
      " |      self != 0\n",
      " |  \n",
      " |  __ceil__(...)\n",
      " |      Ceiling of an Integral returns itself.\n",
      " |  \n",
      " |  __divmod__(self, value, /)\n",
      " |      Return divmod(self, value).\n",
      " |  \n",
      " |  __eq__(self, value, /)\n",
      " |      Return self==value.\n",
      " |  \n",
      " |  __float__(self, /)\n",
      " |      float(self)\n",
      " |  \n",
      " |  __floor__(...)\n",
      " |      Flooring an Integral returns itself.\n",
      " |  \n",
      " |  __floordiv__(self, value, /)\n",
      " |      Return self//value.\n",
      " |  \n",
      " |  __format__(self, format_spec, /)\n",
      " |      Default object formatter.\n",
      " |  \n",
      " |  __ge__(self, value, /)\n",
      " |      Return self>=value.\n",
      " |  \n",
      " |  __getattribute__(self, name, /)\n",
      " |      Return getattr(self, name).\n",
      " |  \n",
      " |  __getnewargs__(self, /)\n",
      " |  \n",
      " |  __gt__(self, value, /)\n",
      " |      Return self>value.\n",
      " |  \n",
      " |  __hash__(self, /)\n",
      " |      Return hash(self).\n",
      " |  \n",
      " |  __index__(self, /)\n",
      " |      Return self converted to an integer, if self is suitable for use as an index into a list.\n",
      " |  \n",
      " |  __int__(self, /)\n",
      " |      int(self)\n",
      " |  \n",
      " |  __invert__(self, /)\n",
      " |      ~self\n",
      " |  \n",
      " |  __le__(self, value, /)\n",
      " |      Return self<=value.\n",
      " |  \n",
      " |  __lshift__(self, value, /)\n",
      " |      Return self<<value.\n",
      " |  \n",
      " |  __lt__(self, value, /)\n",
      " |      Return self<value.\n",
      " |  \n",
      " |  __mod__(self, value, /)\n",
      " |      Return self%value.\n",
      " |  \n",
      " |  __mul__(self, value, /)\n",
      " |      Return self*value.\n",
      " |  \n",
      " |  __ne__(self, value, /)\n",
      " |      Return self!=value.\n",
      " |  \n",
      " |  __neg__(self, /)\n",
      " |      -self\n",
      " |  \n",
      " |  __or__(self, value, /)\n",
      " |      Return self|value.\n",
      " |  \n",
      " |  __pos__(self, /)\n",
      " |      +self\n",
      " |  \n",
      " |  __pow__(self, value, mod=None, /)\n",
      " |      Return pow(self, value, mod).\n",
      " |  \n",
      " |  __radd__(self, value, /)\n",
      " |      Return value+self.\n",
      " |  \n",
      " |  __rand__(self, value, /)\n",
      " |      Return value&self.\n",
      " |  \n",
      " |  __rdivmod__(self, value, /)\n",
      " |      Return divmod(value, self).\n",
      " |  \n",
      " |  __repr__(self, /)\n",
      " |      Return repr(self).\n",
      " |  \n",
      " |  __rfloordiv__(self, value, /)\n",
      " |      Return value//self.\n",
      " |  \n",
      " |  __rlshift__(self, value, /)\n",
      " |      Return value<<self.\n",
      " |  \n",
      " |  __rmod__(self, value, /)\n",
      " |      Return value%self.\n",
      " |  \n",
      " |  __rmul__(self, value, /)\n",
      " |      Return value*self.\n",
      " |  \n",
      " |  __ror__(self, value, /)\n",
      " |      Return value|self.\n",
      " |  \n",
      " |  __round__(...)\n",
      " |      Rounding an Integral returns itself.\n",
      " |      Rounding with an ndigits argument also returns an integer.\n",
      " |  \n",
      " |  __rpow__(self, value, mod=None, /)\n",
      " |      Return pow(value, self, mod).\n",
      " |  \n",
      " |  __rrshift__(self, value, /)\n",
      " |      Return value>>self.\n",
      " |  \n",
      " |  __rshift__(self, value, /)\n",
      " |      Return self>>value.\n",
      " |  \n",
      " |  __rsub__(self, value, /)\n",
      " |      Return value-self.\n",
      " |  \n",
      " |  __rtruediv__(self, value, /)\n",
      " |      Return value/self.\n",
      " |  \n",
      " |  __rxor__(self, value, /)\n",
      " |      Return value^self.\n",
      " |  \n",
      " |  __sizeof__(self, /)\n",
      " |      Returns size in memory, in bytes.\n",
      " |  \n",
      " |  __sub__(self, value, /)\n",
      " |      Return self-value.\n",
      " |  \n",
      " |  __truediv__(self, value, /)\n",
      " |      Return self/value.\n",
      " |  \n",
      " |  __trunc__(...)\n",
      " |      Truncating an Integral returns itself.\n",
      " |  \n",
      " |  __xor__(self, value, /)\n",
      " |      Return self^value.\n",
      " |  \n",
      " |  as_integer_ratio(self, /)\n",
      " |      Return integer ratio.\n",
      " |      \n",
      " |      Return a pair of integers, whose ratio is exactly equal to the original int\n",
      " |      and with a positive denominator.\n",
      " |      \n",
      " |      >>> (10).as_integer_ratio()\n",
      " |      (10, 1)\n",
      " |      >>> (-10).as_integer_ratio()\n",
      " |      (-10, 1)\n",
      " |      >>> (0).as_integer_ratio()\n",
      " |      (0, 1)\n",
      " |  \n",
      " |  bit_length(self, /)\n",
      " |      Number of bits necessary to represent self in binary.\n",
      " |      \n",
      " |      >>> bin(37)\n",
      " |      '0b100101'\n",
      " |      >>> (37).bit_length()\n",
      " |      6\n",
      " |  \n",
      " |  conjugate(...)\n",
      " |      Returns self, the complex conjugate of any int.\n",
      " |  \n",
      " |  to_bytes(self, /, length, byteorder, *, signed=False)\n",
      " |      Return an array of bytes representing an integer.\n",
      " |      \n",
      " |      length\n",
      " |        Length of bytes object to use.  An OverflowError is raised if the\n",
      " |        integer is not representable with the given number of bytes.\n",
      " |      byteorder\n",
      " |        The byte order used to represent the integer.  If byteorder is 'big',\n",
      " |        the most significant byte is at the beginning of the byte array.  If\n",
      " |        byteorder is 'little', the most significant byte is at the end of the\n",
      " |        byte array.  To request the native byte order of the host system, use\n",
      " |        `sys.byteorder' as the byte order value.\n",
      " |      signed\n",
      " |        Determines whether two's complement is used to represent the integer.\n",
      " |        If signed is False and a negative integer is given, an OverflowError\n",
      " |        is raised.\n",
      " |  \n",
      " |  ----------------------------------------------------------------------\n",
      " |  Class methods defined here:\n",
      " |  \n",
      " |  from_bytes(bytes, byteorder, *, signed=False) from builtins.type\n",
      " |      Return the integer represented by the given array of bytes.\n",
      " |      \n",
      " |      bytes\n",
      " |        Holds the array of bytes to convert.  The argument must either\n",
      " |        support the buffer protocol or be an iterable object producing bytes.\n",
      " |        Bytes and bytearray are examples of built-in objects that support the\n",
      " |        buffer protocol.\n",
      " |      byteorder\n",
      " |        The byte order used to represent the integer.  If byteorder is 'big',\n",
      " |        the most significant byte is at the beginning of the byte array.  If\n",
      " |        byteorder is 'little', the most significant byte is at the end of the\n",
      " |        byte array.  To request the native byte order of the host system, use\n",
      " |        `sys.byteorder' as the byte order value.\n",
      " |      signed\n",
      " |        Indicates whether two's complement is used to represent the integer.\n",
      " |  \n",
      " |  ----------------------------------------------------------------------\n",
      " |  Static methods defined here:\n",
      " |  \n",
      " |  __new__(*args, **kwargs) from builtins.type\n",
      " |      Create and return a new object.  See help(type) for accurate signature.\n",
      " |  \n",
      " |  ----------------------------------------------------------------------\n",
      " |  Data descriptors defined here:\n",
      " |  \n",
      " |  denominator\n",
      " |      the denominator of a rational number in lowest terms\n",
      " |  \n",
      " |  imag\n",
      " |      the imaginary part of a complex number\n",
      " |  \n",
      " |  numerator\n",
      " |      the numerator of a rational number in lowest terms\n",
      " |  \n",
      " |  real\n",
      " |      the real part of a complex number\n",
      "\n"
     ]
    }
   ],
   "source": [
    "# you can also use some built-in functions to investigate any object\n",
    "help(v)"
   ]
  },
  {
   "cell_type": "code",
   "execution_count": 6,
   "metadata": {
    "id": "QuiIbsTDtHg8"
   },
   "outputs": [
    {
     "data": {
      "text/plain": [
       "['__abs__',\n",
       " '__add__',\n",
       " '__and__',\n",
       " '__bool__',\n",
       " '__ceil__',\n",
       " '__class__',\n",
       " '__delattr__',\n",
       " '__dir__',\n",
       " '__divmod__',\n",
       " '__doc__',\n",
       " '__eq__',\n",
       " '__float__',\n",
       " '__floor__',\n",
       " '__floordiv__',\n",
       " '__format__',\n",
       " '__ge__',\n",
       " '__getattribute__',\n",
       " '__getnewargs__',\n",
       " '__gt__',\n",
       " '__hash__',\n",
       " '__index__',\n",
       " '__init__',\n",
       " '__init_subclass__',\n",
       " '__int__',\n",
       " '__invert__',\n",
       " '__le__',\n",
       " '__lshift__',\n",
       " '__lt__',\n",
       " '__mod__',\n",
       " '__mul__',\n",
       " '__ne__',\n",
       " '__neg__',\n",
       " '__new__',\n",
       " '__or__',\n",
       " '__pos__',\n",
       " '__pow__',\n",
       " '__radd__',\n",
       " '__rand__',\n",
       " '__rdivmod__',\n",
       " '__reduce__',\n",
       " '__reduce_ex__',\n",
       " '__repr__',\n",
       " '__rfloordiv__',\n",
       " '__rlshift__',\n",
       " '__rmod__',\n",
       " '__rmul__',\n",
       " '__ror__',\n",
       " '__round__',\n",
       " '__rpow__',\n",
       " '__rrshift__',\n",
       " '__rshift__',\n",
       " '__rsub__',\n",
       " '__rtruediv__',\n",
       " '__rxor__',\n",
       " '__setattr__',\n",
       " '__sizeof__',\n",
       " '__str__',\n",
       " '__sub__',\n",
       " '__subclasshook__',\n",
       " '__truediv__',\n",
       " '__trunc__',\n",
       " '__xor__',\n",
       " 'as_integer_ratio',\n",
       " 'bit_length',\n",
       " 'conjugate',\n",
       " 'denominator',\n",
       " 'from_bytes',\n",
       " 'imag',\n",
       " 'numerator',\n",
       " 'real',\n",
       " 'to_bytes']"
      ]
     },
     "execution_count": 6,
     "metadata": {},
     "output_type": "execute_result"
    }
   ],
   "source": [
    "dir(v)"
   ]
  },
  {
   "cell_type": "markdown",
   "metadata": {
    "id": "6y81lxpDsFFO"
   },
   "source": [
    "## Different numeric types"
   ]
  },
  {
   "cell_type": "code",
   "execution_count": 7,
   "metadata": {
    "id": "Swa0-0zynu2g"
   },
   "outputs": [
    {
     "name": "stdout",
     "output_type": "stream",
     "text": [
      "5 5.0 <class 'float'> True <class 'bool'>\n"
     ]
    }
   ],
   "source": [
    "# change the type of an object (by creating a new object!)\n",
    "print(v, float(v), type(float(v)), bool(v), type(bool(v)))"
   ]
  },
  {
   "cell_type": "code",
   "execution_count": 8,
   "metadata": {
    "id": "sbJQKQ-4o4nB"
   },
   "outputs": [],
   "source": [
    "# use float values\n",
    "f = 3.43\n",
    "# use bool values\n",
    "b = True\n",
    "# use complex types\n",
    "a = 3 + 4j"
   ]
  },
  {
   "cell_type": "code",
   "execution_count": 9,
   "metadata": {
    "id": "kOxbBi-PpUZo"
   },
   "outputs": [
    {
     "name": "stdout",
     "output_type": "stream",
     "text": [
      "10 < 20 True\n",
      "8 2 15 1.6666666666666667 1 2 125\n"
     ]
    }
   ],
   "source": [
    "# use comparison operators\n",
    "print(\"10 < 20\", 10 < 20)\n",
    "\n",
    "# sum, sub., mult., div, floor div, modulo, power\n",
    "print(5+3, 5-3, 5*3, 5/3, 5//3, 5%3, 5**3)"
   ]
  },
  {
   "cell_type": "markdown",
   "metadata": {
    "id": "55JDdmvhr82K"
   },
   "source": [
    "## Strings"
   ]
  },
  {
   "cell_type": "code",
   "execution_count": 10,
   "metadata": {
    "id": "TeLoxilfqm_n"
   },
   "outputs": [
    {
     "name": "stdout",
     "output_type": "stream",
     "text": [
      "300 + 20 = 320\n",
      "hellohello\n",
      "hellohellohellohellohellohellohellohellohellohello\n",
      "65\n",
      "A\n",
      "E\n"
     ]
    }
   ],
   "source": [
    "# use strings\n",
    "greeting, destination = 'hello', \"world\"\n",
    "\n",
    "# use formatting operators\n",
    "print(\"{0} + {1} = {2}\".format(300, 20, 320))\n",
    "\n",
    "# string operations\n",
    "print(greeting+greeting)\n",
    "print(greeting*10)\n",
    "\n",
    "# character conversion\n",
    "print(ord('A'))\n",
    "print(chr(65))\n",
    "# character operations\n",
    "print(chr(ord('A') + 4))"
   ]
  },
  {
   "cell_type": "code",
   "execution_count": 11,
   "metadata": {
    "id": "lXaSnwD10YIL"
   },
   "outputs": [
    {
     "name": "stdout",
     "output_type": "stream",
     "text": [
      "-\n",
      "['this', 'is', 'a', 'sentence']\n",
      "hi!\n"
     ]
    }
   ],
   "source": [
    "# string functions\n",
    "print(\"hello\".join('-'))\n",
    "print(\"this is a sentence\".split())\n",
    "print(\"HI!\".lower())"
   ]
  },
  {
   "cell_type": "code",
   "execution_count": 12,
   "metadata": {
    "id": "BZqEEZ7rq40V"
   },
   "outputs": [
    {
     "name": "stdout",
     "output_type": "stream",
     "text": [
      "insert a number: 3\n",
      "3 <class 'str'>\n"
     ]
    }
   ],
   "source": [
    "# input a value\n",
    "n = input('insert a number: ')\n",
    "print(n, type(n))"
   ]
  },
  {
   "cell_type": "markdown",
   "metadata": {
    "id": "wtFHt-_0v-9f"
   },
   "source": [
    "### Exercise\n",
    "Cipher of Caesar: it is used to encode and decode a string. \n",
    "\n",
    "Example, key $k=3$:\n",
    "\n",
    "Original characters:\n",
    "\n",
    "`abcdefghijklmnopqrstuvwxyz`\n",
    "\n",
    "Encrypted characters:\n",
    "\n",
    "`defghijklmnopqrstuvwxyzabc`\n",
    "\n",
    "For example, `a` $\\rightarrow$ `d` because I'll move \"clockwise\" in the alphabet of 3 positions:\n",
    "$a \\rightarrow_1 b \\rightarrow_2 c \\rightarrow_3 d$\n",
    "\n",
    "With a negative key I'll move \"counterclockwise\". With `k = -3` `d` becomes `a`: $d \\rightarrow_{-1} c \\rightarrow_{-2} b\\rightarrow_{-3} a$\n",
    "\n",
    "Idea: $E_k(x) = (x+k)\\; mod\\; 26$\n",
    "\n",
    "Create a cell that converts a single character to an encrypted character."
   ]
  },
  {
   "cell_type": "code",
   "execution_count": 13,
   "metadata": {
    "cellView": "form",
    "id": "tbYcooPIxS4U"
   },
   "outputs": [
    {
     "ename": "SyntaxError",
     "evalue": "invalid syntax (<ipython-input-13-57d588646489>, line 3)",
     "output_type": "error",
     "traceback": [
      "\u001b[0;36m  File \u001b[0;32m\"<ipython-input-13-57d588646489>\"\u001b[0;36m, line \u001b[0;32m3\u001b[0m\n\u001b[0;31m    print('encrypted' chr(ord(n) + 3))\u001b[0m\n\u001b[0m                      ^\u001b[0m\n\u001b[0;31mSyntaxError\u001b[0m\u001b[0;31m:\u001b[0m invalid syntax\n"
     ]
    }
   ],
   "source": [
    "#@title Solution\n",
    "n = input('insert a character: ')\n",
    "print('encrypted' chr(ord(n) + 3))"
   ]
  },
  {
   "cell_type": "markdown",
   "metadata": {
    "id": "TWO5S_oYrlNx"
   },
   "source": [
    "## Sequences"
   ]
  },
  {
   "cell_type": "code",
   "execution_count": 14,
   "metadata": {
    "id": "noDoj9OSrBxD"
   },
   "outputs": [
    {
     "name": "stdout",
     "output_type": "stream",
     "text": [
      "1\n",
      "star\n",
      "[1, 2, 3]\n",
      "[3, 9, 15, 21, 27, 33, 39, 45, 51, 57, 63, 69, 75, 81, 87, 93, 99]\n"
     ]
    }
   ],
   "source": [
    "# use sequencies\n",
    "l = [1, 2, 3, 'star']\n",
    "t = (10, 5, 95)\n",
    "d = {'hi': '👋', 'pizza': '🍕', 'rabbit': '🐇'}\n",
    "\n",
    "# create ranges (i.e. [3, 6, 9, 12..., 99] )\n",
    "r = list(range(3, 100, 3))\n",
    "\n",
    "# indexing\n",
    "print(l[0])\n",
    "print(l[-1])\n",
    "# slicing\n",
    "print(l[:3])\n",
    "# striding\n",
    "print(r[::2])"
   ]
  },
  {
   "cell_type": "code",
   "execution_count": 15,
   "metadata": {
    "id": "xPT6yDcPreA0"
   },
   "outputs": [
    {
     "ename": "TypeError",
     "evalue": "'tuple' object does not support item assignment",
     "output_type": "error",
     "traceback": [
      "\u001b[0;31m---------------------------------------------------------------------------\u001b[0m",
      "\u001b[0;31mTypeError\u001b[0m                                 Traceback (most recent call last)",
      "\u001b[0;32m<ipython-input-15-c140f732b546>\u001b[0m in \u001b[0;36m<module>\u001b[0;34m\u001b[0m\n\u001b[1;32m      1\u001b[0m \u001b[0;31m# this won't work!\u001b[0m\u001b[0;34m\u001b[0m\u001b[0;34m\u001b[0m\u001b[0;34m\u001b[0m\u001b[0m\n\u001b[0;32m----> 2\u001b[0;31m \u001b[0mt\u001b[0m\u001b[0;34m[\u001b[0m\u001b[0;36m2\u001b[0m\u001b[0;34m]\u001b[0m \u001b[0;34m=\u001b[0m \u001b[0;36m98\u001b[0m\u001b[0;34m\u001b[0m\u001b[0;34m\u001b[0m\u001b[0m\n\u001b[0m",
      "\u001b[0;31mTypeError\u001b[0m: 'tuple' object does not support item assignment"
     ]
    }
   ],
   "source": [
    "# this won't work!\n",
    "t[2] = 98"
   ]
  },
  {
   "cell_type": "code",
   "execution_count": 16,
   "metadata": {
    "id": "jRD_8FQGsMd0"
   },
   "outputs": [
    {
     "data": {
      "text/plain": [
       "'star'"
      ]
     },
     "execution_count": 16,
     "metadata": {},
     "output_type": "execute_result"
    }
   ],
   "source": [
    "# removing and returning a value\n",
    "l.pop(-1)"
   ]
  },
  {
   "cell_type": "code",
   "execution_count": 17,
   "metadata": {
    "id": "htJi3ZovskLz"
   },
   "outputs": [
    {
     "name": "stdout",
     "output_type": "stream",
     "text": [
      "['⋆', 3, 2, 1]\n"
     ]
    }
   ],
   "source": [
    "# add a new value\n",
    "l.append('⋆')\n",
    "# reversing it\n",
    "l.reverse()\n",
    "print(l)"
   ]
  },
  {
   "cell_type": "code",
   "execution_count": 18,
   "metadata": {
    "id": "NySf-bGR65bH"
   },
   "outputs": [
    {
     "name": "stdout",
     "output_type": "stream",
     "text": [
      "dict_keys(['hi', 'pizza', 'rabbit'])\n",
      "dict_values(['👋', '🍕', '🐇'])\n",
      "🍕\n"
     ]
    }
   ],
   "source": [
    "print(d.keys())\n",
    "print(d.values())\n",
    "print(d['pizza'])"
   ]
  },
  {
   "cell_type": "markdown",
   "metadata": {
    "id": "omxcXAfkrzAW"
   },
   "source": [
    "## Variables and references"
   ]
  },
  {
   "cell_type": "code",
   "execution_count": 19,
   "metadata": {
    "id": "jDmF4p9cCMoi"
   },
   "outputs": [
    {
     "data": {
      "text/plain": [
       "['uno', 'due']"
      ]
     },
     "execution_count": 19,
     "metadata": {},
     "output_type": "execute_result"
    }
   ],
   "source": [
    "h = ['uno', 'due']\n",
    "h"
   ]
  },
  {
   "cell_type": "markdown",
   "metadata": {
    "id": "kGf7VwdhCSrg"
   },
   "source": [
    "<img alt=\"Diagramma dopo istruzione 1\" src=https://www.math.unipd.it/~mpolato/didattica/pr1920/notebook_imgs/list2-1.png width=\"250\">"
   ]
  },
  {
   "cell_type": "code",
   "execution_count": 20,
   "metadata": {
    "id": "GAiPaQKtCZlc"
   },
   "outputs": [
    {
     "data": {
      "text/plain": [
       "('uno', 'due', ['uno', 'due'])"
      ]
     },
     "execution_count": 20,
     "metadata": {},
     "output_type": "execute_result"
    }
   ],
   "source": [
    "t = (h[0], h[1], h)\n",
    "t"
   ]
  },
  {
   "cell_type": "markdown",
   "metadata": {
    "id": "WEtnQdXZCeYu"
   },
   "source": [
    "<img alt=\"Diagramma dopo istruzione 2\" src=https://www.math.unipd.it/~mpolato/didattica/pr1920/notebook_imgs/list2-2.png width=\"350\">"
   ]
  },
  {
   "cell_type": "code",
   "execution_count": 21,
   "metadata": {
    "id": "yjeU5jSPCx07"
   },
   "outputs": [
    {
     "name": "stdout",
     "output_type": "stream",
     "text": [
      "[3, 'due']\n",
      "('uno', 'due', [3, 'due'])\n"
     ]
    }
   ],
   "source": [
    "h[0] = 3\n",
    "print(h)\n",
    "print(t)"
   ]
  },
  {
   "cell_type": "markdown",
   "metadata": {
    "id": "iUMiww_0C2ma"
   },
   "source": [
    "<img alt=\"Diagramma dopo istruzione 2\" src=https://www.math.unipd.it/~mpolato/didattica/pr1920/notebook_imgs/list2-3.png width=\"350\">"
   ]
  },
  {
   "cell_type": "code",
   "execution_count": 22,
   "metadata": {
    "id": "1fhtxoJuCyjA"
   },
   "outputs": [
    {
     "name": "stdout",
     "output_type": "stream",
     "text": [
      "[3, 4]\n",
      "('uno', 'due', [3, 4])\n"
     ]
    }
   ],
   "source": [
    "h[1] = 4\n",
    "print(h)\n",
    "print(t)"
   ]
  },
  {
   "cell_type": "markdown",
   "metadata": {
    "id": "l338DZhrC6Sg"
   },
   "source": [
    "<img alt=\"Diagramma dopo istruzione 2\" src=https://www.math.unipd.it/~mpolato/didattica/pr1920/notebook_imgs/list2-4.png width=\"350\">"
   ]
  },
  {
   "cell_type": "markdown",
   "metadata": {
    "id": "sgKSu8m7tnE4"
   },
   "source": [
    "# List comprehension\n",
    "\n",
    "* Basic (used to transform)\n",
    "`[f(x) for x in l] = [f(l[0]), ..., f(l[N])]`\n",
    "\n",
    "* Conditional (used to filter)\n",
    "`[f(x) for x in l if g(x)]`\n",
    "\n",
    "* Combination (used for cartesian product, etc.)\n",
    "`[f(x1,x2) for x1 in l1 for x2 in l2]`"
   ]
  },
  {
   "cell_type": "code",
   "execution_count": 23,
   "metadata": {
    "id": "lXAZyW6evH7x"
   },
   "outputs": [
    {
     "name": "stdout",
     "output_type": "stream",
     "text": [
      "[4, 9, 25, 49, 121, 169]\n",
      "[121, 169]\n"
     ]
    },
    {
     "data": {
      "text/plain": [
       "[(-1, 0), (-1, 1), (0, -1), (0, 1), (1, -1), (1, 0)]"
      ]
     },
     "execution_count": 23,
     "metadata": {},
     "output_type": "execute_result"
    }
   ],
   "source": [
    "l = [2, 3, 5, 7, 11, 13]\n",
    "\n",
    "# basic list comprehension\n",
    "print([i**2 for i in l])\n",
    "\n",
    "# conditional list comprehension\n",
    "print([i**2 for i in l if i >= 10])\n",
    "\n",
    "# combination + condition\n",
    "l1 = [-1, 0, 1]\n",
    "l2 = [-1, 0, 1]\n",
    "[(x,y) for x in l1 for y in l2 if x != y]"
   ]
  },
  {
   "cell_type": "markdown",
   "metadata": {
    "id": "UI5JN4uguhDS"
   },
   "source": [
    "### Exercise\n",
    "Create a list containing Pythagorean triples $(a,b,c)$ with $a,b,c \\in \\mathbb{N}$ and $\\le 200$. Each triple is shown as a tuple. The order does not matter.\n",
    "\n",
    "Pythagorean triples: $a^2 + b^2 = c^2$"
   ]
  },
  {
   "cell_type": "code",
   "execution_count": 59,
   "metadata": {
    "cellView": "form",
    "id": "8phr0HY1s0me"
   },
   "outputs": [
    {
     "name": "stdout",
     "output_type": "stream",
     "text": [
      "Pitagorean Triples (a,b,c) that a^2 + b^2 = c^2   where a,b,c <= 20  \n",
      " [(3, 4, 5), (5, 12, 13), (6, 8, 10), (8, 15, 17), (9, 12, 15)]\n"
     ]
    }
   ],
   "source": [
    "#@title Solution\n",
    "\n",
    "n_max=20\n",
    "\n",
    "list_temp = list_temp = [(a,b,c) for a in range(1,n_max)\n",
    "                     for b in range(a+1,n_max)\n",
    "                     for c in range(b+1, n_max)\n",
    "                     if (a**2 + b**2 == c**2)]\n",
    "\n",
    "t = tuple(list_temp)\n",
    "\n",
    "print(\"Pitagorean Triples (a,b,c) that a^2 + b^2 = c^2   where a,b,c <=\", n_max, \" \\n\" , list_temp)"
   ]
  },
  {
   "cell_type": "markdown",
   "metadata": {
    "id": "ddvh_sYkz8UW"
   },
   "source": [
    "### Exercise\n",
    "Extend the Cipher of Ceasar to a full string, containing spaces."
   ]
  },
  {
   "cell_type": "code",
   "execution_count": 27,
   "metadata": {
    "cellView": "form",
    "id": "lNlUTxKLs7Y9"
   },
   "outputs": [
    {
     "name": "stdout",
     "output_type": "stream",
     "text": [
      "insert a string: AMOS\n",
      "encripted --> DPRV\n"
     ]
    }
   ],
   "source": [
    "#@title Solution\n",
    "\n",
    "n = input('insert a string: ')\n",
    "\n",
    "my_string = ''\n",
    "for j in n:\n",
    "    my_string= my_string + (chr(ord(j) + 3))\n",
    "print(\"encripted -->\" , my_string)"
   ]
  },
  {
   "cell_type": "markdown",
   "metadata": {
    "id": "7YoibQ2i1izV"
   },
   "source": [
    "## Flow control"
   ]
  },
  {
   "cell_type": "code",
   "execution_count": 28,
   "metadata": {
    "id": "IjvQQaET4CZq"
   },
   "outputs": [
    {
     "name": "stdout",
     "output_type": "stream",
     "text": [
      "strictly positive\n"
     ]
    }
   ],
   "source": [
    "# basic flow control\n",
    "x = 10\n",
    "if x < 0:\n",
    "    print('strictly negative')\n",
    "elif x == 0:\n",
    "    print('zero')\n",
    "else: \n",
    "    print('strictly positive')"
   ]
  },
  {
   "cell_type": "code",
   "execution_count": 29,
   "metadata": {
    "id": "ANp9t7mi4lNZ"
   },
   "outputs": [
    {
     "name": "stdout",
     "output_type": "stream",
     "text": [
      "1\n",
      "2\n",
      "3\n"
     ]
    }
   ],
   "source": [
    "# for-iteration\n",
    "for x in [1,2,3]:\n",
    "    print(x)"
   ]
  },
  {
   "cell_type": "code",
   "execution_count": 30,
   "metadata": {
    "id": "gyD0xs86_wOG"
   },
   "outputs": [
    {
     "name": "stdout",
     "output_type": "stream",
     "text": [
      "2\n",
      "3\n",
      "5\n",
      "7\n",
      "11\n",
      "13\n"
     ]
    }
   ],
   "source": [
    "for i in range(len(l)):\n",
    "    print(l[i])"
   ]
  },
  {
   "cell_type": "code",
   "execution_count": 31,
   "metadata": {
    "id": "vzb9ywsp_xXQ"
   },
   "outputs": [
    {
     "name": "stdout",
     "output_type": "stream",
     "text": [
      "10\n",
      "19\n",
      "28\n",
      "37\n",
      "46\n",
      "55\n",
      "64\n",
      "73\n",
      "82\n",
      "91\n"
     ]
    }
   ],
   "source": [
    "for x in range(10,100,9):\n",
    "    print(x)"
   ]
  },
  {
   "cell_type": "code",
   "execution_count": 32,
   "metadata": {
    "id": "kt3Bi0eu_yOr"
   },
   "outputs": [
    {
     "name": "stdout",
     "output_type": "stream",
     "text": [
      "0 A\n",
      "1 B\n",
      "2 C\n",
      "3 D\n",
      "4 E\n",
      "5 F\n",
      "6 G\n",
      "7 H\n",
      "8 I\n",
      "9 J\n",
      "10 K\n",
      "11 L\n",
      "12 M\n",
      "13 N\n",
      "14 O\n",
      "15 P\n",
      "16 Q\n",
      "17 R\n",
      "18 S\n",
      "19 T\n",
      "20 U\n",
      "21 V\n",
      "22 W\n",
      "23 X\n",
      "24 Y\n",
      "25 Z\n",
      "0\n",
      "11\n",
      "22\n",
      "33\n",
      "44\n",
      "55\n",
      "66\n",
      "77\n",
      "88\n",
      "99\n"
     ]
    }
   ],
   "source": [
    "for i, x in enumerate([chr(x) for x in range(65, 91)]):\n",
    "    print(i, x)\n",
    "\n",
    "for a, b in zip(range(10), range(0,100,10)):\n",
    "    print(a+b)"
   ]
  },
  {
   "cell_type": "code",
   "execution_count": 33,
   "metadata": {
    "id": "Tb3GGC4u_zR-"
   },
   "outputs": [
    {
     "name": "stdout",
     "output_type": "stream",
     "text": [
      "122\n"
     ]
    }
   ],
   "source": [
    "# while-iteration\n",
    "import random\n",
    "x = random.randrange(1000)\n",
    "i = 0\n",
    "while x != 1:\n",
    "    i += 1\n",
    "    if x % 2 == 0:\n",
    "        x = x // 2\n",
    "    else:\n",
    "        x = 3 * x + 1\n",
    "print(i)"
   ]
  },
  {
   "cell_type": "markdown",
   "metadata": {
    "id": "0_FbSfb22JYv"
   },
   "source": [
    "### Exercise\n",
    "Write a program to play \"rock paper scissors\": ask the user for a choice between \"rock\", \"paper\", and \"scissors\". Then it randomly generates via the random module a choice, then it tells the user the outcome of the match. Repeat until either player wins 3 matches. Ignore invalid inputs.\n",
    "\n",
    "Tip: the function choice of the random module generates random values sampled from an input sequence."
   ]
  },
  {
   "cell_type": "code",
   "execution_count": 45,
   "metadata": {
    "cellView": "form",
    "id": "pj6Z0Utf1kXZ"
   },
   "outputs": [
    {
     "name": "stdout",
     "output_type": "stream",
     "text": [
      "Choose 'rock', 'scissors','paper'PAPER\n",
      "Choose 'rock', 'scissors','paper'paper\n",
      "Computer plays  rock  , You won \n",
      "\n",
      "Actual score is : Player  1  -  0  Computer  \n",
      "\n",
      "Choose 'rock', 'scissors','paper'rock\n",
      "Computer plays  paper  , You lost \n",
      "\n",
      "Actual score is : Player  1  -  1  Computer  \n",
      "\n",
      "Choose 'rock', 'scissors','paper'paper\n",
      "Computer plays  scissors  , You lost \n",
      "\n",
      "Actual score is : Player  1  -  2  Computer  \n",
      "\n",
      "Choose 'rock', 'scissors','paper'scissors\n",
      "Computer plays  paper  , You won \n",
      "\n",
      "Actual score is : Player  2  -  2  Computer  \n",
      "\n",
      "Choose 'rock', 'scissors','paper'rock\n",
      "Computer plays  paper  , You lost \n",
      "\n",
      "Actual score is : Player  2  -  3  Computer  \n",
      "\n",
      "\n",
      " Game's over\n",
      "\n",
      " You Lost for :  3  -  2  POOR AMOS \n",
      "\n"
     ]
    }
   ],
   "source": [
    "#@title Solution\n",
    "import random\n",
    "\n",
    "seq=['rock', 'scissors','paper']\n",
    "\n",
    "def pc_choice():\n",
    "    return random.choice(seq)\n",
    "\n",
    "def player_choice():\n",
    "    pl_c = input(\"Choose 'rock', 'scissors','paper'\")\n",
    "    return pl_c\n",
    "\n",
    "pc_wins=0\n",
    "pl_wins=0\n",
    "\n",
    "while pl_wins < 3 and pc_wins<3:\n",
    "    pc_c = pc_choice()\n",
    "    pl_c = player_choice()\n",
    "    \n",
    "    \n",
    "    if pl_c == 'rock':\n",
    "        if pc_c == 'scissors':\n",
    "            print('Computer plays ' , pc_c , ' , You won \\n')\n",
    "            pl_wins+=1\n",
    "            print(\"Actual score is : Player \", pl_wins ,\" - \" ,pc_wins ,\" Computer  \\n\")\n",
    "        if pc_c == 'rock':\n",
    "            print('Computer plays ' , pc_c , ' ,  You tied \\n')\n",
    "            print(\"Actual score is : Player \", pl_wins ,\" - \" ,pc_wins ,\" Computer  \\n\")\n",
    "        if pc_c == 'paper':\n",
    "            print('Computer plays ' , pc_c , ' , You lost \\n')\n",
    "            pc_wins+=1\n",
    "            print(\"Actual score is : Player \", pl_wins ,\" - \" ,pc_wins ,\" Computer  \\n\")\n",
    "\n",
    "    if pl_c == 'scissors':\n",
    "        if pc_c == 'paper':\n",
    "            print('Computer plays ' , pc_c , ' , You won \\n')\n",
    "            pl_wins+=1\n",
    "            print(\"Actual score is : Player \", pl_wins ,\" - \" ,pc_wins ,\" Computer  \\n\")\n",
    "\n",
    "        if pc_c == 'scissors':\n",
    "            print('Computer plays ' , pc_c , ' , You tied \\n')\n",
    "            print(\"Actual score is : Player \", pl_wins ,\" - \" ,pc_wins ,\" Computer  \\n\")\n",
    "        if pc_c == 'rock':\n",
    "            print('Computer plays ' , pc_c , ' , You lost \\n')\n",
    "            pc_wins+=1\n",
    "            print(\"Actual score is : Player \", pl_wins ,\" - \" ,pc_wins ,\" Computer  \\n\")\n",
    "\n",
    "    if pl_c == 'paper':\n",
    "        if pc_c == 'rock':\n",
    "            print('Computer plays ' , pc_c , ' , You won \\n')\n",
    "            pl_wins+=1\n",
    "            print(\"Actual score is : Player \", pl_wins ,\" - \" ,pc_wins ,\" Computer  \\n\")\n",
    "\n",
    "        if pc_c == 'paper':\n",
    "            print('Computer plays ' , pc_c , ' , You tied \\n')\n",
    "            print(\"Actual score is : Player \", pl_wins ,\" - \" ,pc_wins ,\" Computer  \\n\")\n",
    "        if pc_c == 'scissors':\n",
    "            print('Computer plays ' , pc_c , ' , You lost \\n')\n",
    "            pc_wins+=1\n",
    "            print(\"Actual score is : Player \", pl_wins ,\" - \" ,pc_wins ,\" Computer  \\n\")\n",
    "\n",
    "    \n",
    "else:\n",
    "    print('\\n Game\\'s over')\n",
    "    if (pc_wins == 3): \n",
    "                  print(\"\\n You Lost for : \", pc_wins ,\" - \" , pl_wins ,\" POOR AMOS \\n\")\n",
    "    else:\n",
    "                  print(\"\\n You Win for : \", pl_wins ,\" - \" , pc_wins ,\"\\n\")\n",
    "\n",
    "                  \n"
   ]
  },
  {
   "cell_type": "markdown",
   "metadata": {
    "id": "-3ohuJR31mUN"
   },
   "source": [
    "## Functions"
   ]
  },
  {
   "cell_type": "code",
   "execution_count": 60,
   "metadata": {
    "id": "tTIMw8tW1m_K"
   },
   "outputs": [
    {
     "name": "stdout",
     "output_type": "stream",
     "text": [
      "5\n",
      "2\n",
      "None\n"
     ]
    }
   ],
   "source": [
    "# create a new function\n",
    "def add(x,y):\n",
    "    return x+y\n",
    "\n",
    "print(add(3,2))\n",
    "\n",
    "# create a function with default values\n",
    "def add2(x,y=2):\n",
    "    return x+y\n",
    "\n",
    "print(add2(0))\n",
    "\n",
    "# remember to return a value\n",
    "def nothing():\n",
    "    result = 321\n",
    "\n",
    "print(nothing())\n"
   ]
  },
  {
   "cell_type": "code",
   "execution_count": 61,
   "metadata": {
    "id": "FoF_wsXK9lMW"
   },
   "outputs": [
    {
     "ename": "NameError",
     "evalue": "name 'result' is not defined",
     "output_type": "error",
     "traceback": [
      "\u001b[0;31m---------------------------------------------------------------------------\u001b[0m",
      "\u001b[0;31mNameError\u001b[0m                                 Traceback (most recent call last)",
      "\u001b[0;32m<ipython-input-61-3e6181b702ec>\u001b[0m in \u001b[0;36m<module>\u001b[0;34m\u001b[0m\n\u001b[0;32m----> 1\u001b[0;31m \u001b[0mprint\u001b[0m\u001b[0;34m(\u001b[0m\u001b[0mresult\u001b[0m\u001b[0;34m)\u001b[0m  \u001b[0;31m# this fails! result is a local variable\u001b[0m\u001b[0;34m\u001b[0m\u001b[0;34m\u001b[0m\u001b[0m\n\u001b[0m",
      "\u001b[0;31mNameError\u001b[0m: name 'result' is not defined"
     ]
    }
   ],
   "source": [
    "print(result)  # this fails! result is a local variable"
   ]
  },
  {
   "cell_type": "code",
   "execution_count": null,
   "metadata": {
    "id": "KbvGj1Mi9n2i"
   },
   "outputs": [],
   "source": [
    "# create a function that accepts an unlimited number of values\n",
    "def add_all(*args):\n",
    "    return sum(args)\n",
    "\n",
    "print(add_all(4,3,2,1))\n",
    "\n",
    "# create a function that accepts a keyword-value set of arguments\n",
    "def print_vals(**kwargs):\n",
    "    a = kwargs.get('apple')\n",
    "    b = kwargs.get('banana')\n",
    "    c = kwargs.get('cherry')\n",
    "    print(a,b,c)\n",
    "\n",
    "print_vals(apple='🍎', cherry='🍒')"
   ]
  },
  {
   "cell_type": "markdown",
   "metadata": {
    "id": "w6zMJkHU1oZ7"
   },
   "source": [
    "## Classes"
   ]
  },
  {
   "cell_type": "code",
   "execution_count": null,
   "metadata": {
    "id": "QSEfQEuw1qYD"
   },
   "outputs": [],
   "source": [
    "# create a new class\n",
    "class Person:\n",
    "    def __init__(self, name=\"will\", surname=\"smith\"):  # constructor\n",
    "        # fields\n",
    "        self.name = name\n",
    "        self.surname = surname\n",
    "    \n",
    "    # Instance methods \n",
    "    def greetings(self): \n",
    "        print(\"Hi, I am {0} {1}\".format(self.name, self.surname))\n",
    "\n",
    "p = Person(name='luca', surname='bergamin')\n",
    "p.greetings()"
   ]
  },
  {
   "cell_type": "code",
   "execution_count": null,
   "metadata": {
    "id": "ddjWS2gw8RSn"
   },
   "outputs": [],
   "source": [
    "# create a subclass\n",
    "class Student(Person):\n",
    "    def __init__(self, surname, name, course='AI'):\n",
    "        super().__init__(name, surname)\n",
    "        self.course = course\n",
    "    # overloading\n",
    "    def greetings(self):\n",
    "        print(\"Hi, I am {0}, and I'm studying\".format(self.name))\n",
    "    def study(self, t):\n",
    "        print(\"I'm studying\", self.course)\n",
    "        import time\n",
    "        for _ in range(t):\n",
    "            time.sleep(1)\n",
    "            print(\".\", end='')\n",
    "        print('I finished!')\n",
    "\n",
    "s = Student('bergamin', 'luca')\n",
    "s.greetings()\n",
    "s.study(10)\n",
    "\n",
    "# check if an object is an instance of a class\n",
    "print(isinstance(s, Person))\n",
    "print(isinstance(p, Person))\n",
    "print(isinstance(s, Student))\n",
    "print(isinstance(p, Student))"
   ]
  },
  {
   "cell_type": "code",
   "execution_count": null,
   "metadata": {},
   "outputs": [],
   "source": []
  }
 ],
 "metadata": {
  "colab": {
   "name": "IA0_stud.ipynb",
   "provenance": []
  },
  "kernelspec": {
   "display_name": "Python 3",
   "language": "python",
   "name": "python3"
  },
  "language_info": {
   "codemirror_mode": {
    "name": "ipython",
    "version": 3
   },
   "file_extension": ".py",
   "mimetype": "text/x-python",
   "name": "python",
   "nbconvert_exporter": "python",
   "pygments_lexer": "ipython3",
   "version": "3.8.10"
  }
 },
 "nbformat": 4,
 "nbformat_minor": 1
}
